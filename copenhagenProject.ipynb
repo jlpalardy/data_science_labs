{
 "cells": [
  {
   "cell_type": "markdown",
   "metadata": {},
   "source": [
    "# Battle of the Neighborhoods: Where to Launch a Restaurant in Copenhagen\n",
    "### Jessica Udsen"
   ]
  },
  {
   "cell_type": "markdown",
   "metadata": {},
   "source": [
    "## Introduction"
   ]
  },
  {
   "cell_type": "markdown",
   "metadata": {},
   "source": [
    "Copenhagen is an incredibly diverse city, with neighborhoods that are incredibly varied in terms of residents' ethnic backgrounds, income levels, and tastes. It is undeniable to any who live in the area that a neighborhood like Nørrebro has a distinctly different 'flavor' from Christianshavn. Therefore, it is reasonable to assume that certain types of restaurants do better in certain types of areas of the city. There are many location-based factors that could affect the success of a restaurant, for example, the saturation level of that sort of restaurant in the area, the quality of the nearby competition, and foot traffic around the location. Therefore, we will undertake a market analysis to try and define which sorts of food are lacking in which neighborhoods (both in terms of density and in terms of quality), and we will make recommendations for a type of cuisine and a generalized location."
   ]
  },
  {
   "cell_type": "markdown",
   "metadata": {},
   "source": [
    "## The Data"
   ]
  },
  {
   "cell_type": "markdown",
   "metadata": {},
   "source": [
    "In order to get the coordinates for each neighborhood in Copenhagen, we will use <a href=\"https://en.wikipedia.org/wiki/List_of_postal_codes_in_Denmark\"> this list of Danish postal codes</a>, in combination with <a href=\"https://geocoder.readthedocs.io/\">Python's Geocoder library</a>. After we locate each neighborhood by latitude and longitude, we will enter this data into the <a href=\"https://foursquare.com/city-guide\">Foursquare City Guide API</a> and search for restaurants in each area. The results will include venue types and venue ratings. Finally, we will find the number of each type of restaurant in each neighborhood and the average rating in each of these categories. Finally, we will cluster the neighborhoods according to these factors using K-Means, and we will look at the cuisine type density and cuisine type ratings (on average) for each cluster in order to make a recommendation."
   ]
  },
  {
   "cell_type": "code",
   "execution_count": null,
   "metadata": {},
   "outputs": [],
   "source": []
  }
 ],
 "metadata": {
  "kernelspec": {
   "display_name": "Python 3",
   "language": "python",
   "name": "python3"
  },
  "language_info": {
   "codemirror_mode": {
    "name": "ipython",
    "version": 3
   },
   "file_extension": ".py",
   "mimetype": "text/x-python",
   "name": "python",
   "nbconvert_exporter": "python",
   "pygments_lexer": "ipython3",
   "version": "3.8.3"
  }
 },
 "nbformat": 4,
 "nbformat_minor": 4
}
